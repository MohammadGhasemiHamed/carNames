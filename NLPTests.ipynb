{
 "cells": [
  {
   "cell_type": "code",
   "execution_count": 1,
   "metadata": {
    "collapsed": true
   },
   "outputs": [],
   "source": [
    "import numpy as np\n",
    "import pandas as pd"
   ]
  },
  {
   "cell_type": "code",
   "execution_count": 2,
   "outputs": [],
   "source": [
    "from gensim.models.keyedvectors import KeyedVectors\n",
    "from gensim import downloader as api\n",
    "\n",
    "fastTextUrl='fasttext-wiki-news-subwords-300'\n",
    "gloveUrl='glove-wiki-gigaword-50'\n",
    "word2vecUrl=\"word2vec-google-news-300\"\n",
    "\n",
    "fileName='./glove-50'\n",
    "fileName='./word2vec-300'\n",
    "\n"
   ],
   "metadata": {
    "collapsed": false,
    "pycharm": {
     "name": "#%%\n"
    }
   }
  },
  {
   "cell_type": "code",
   "execution_count": 31,
   "outputs": [],
   "source": [
    "downloaded= api.load(word2vecUrl,return_path=True)\n",
    "word2vec=KeyedVectors.load_word2vec_format(downloaded,binary=True)\n",
    "print('-- downloaded')\n",
    "\n",
    "word2vec.save_word2vec_format(fileName)\n",
    "print('-- saved')\n"
   ],
   "metadata": {
    "collapsed": false,
    "pycharm": {
     "name": "#%%\n"
    }
   }
  },
  {
   "cell_type": "code",
   "execution_count": 3,
   "outputs": [
    {
     "name": "stdout",
     "output_type": "stream",
     "text": [
      "-- loaded\n"
     ]
    }
   ],
   "source": [
    "\n",
    "word2vec=KeyedVectors.load_word2vec_format(fileName)\n",
    "print('-- loaded')\n",
    "\n",
    "vocab=word2vec.index_to_key"
   ],
   "metadata": {
    "collapsed": false,
    "pycharm": {
     "name": "#%%\n"
    }
   }
  },
  {
   "cell_type": "code",
   "execution_count": 154,
   "outputs": [
    {
     "name": "stdout",
     "output_type": "stream",
     "text": [
      "[('americaamerica', 'america')]\n"
     ]
    }
   ],
   "source": [
    "import re\n",
    "regstr=r'((america)+)'\n",
    "\n",
    "print(re.findall(regstr,'americaamerica'.lower()))\n"
   ],
   "metadata": {
    "collapsed": false,
    "pycharm": {
     "name": "#%%\n"
    }
   }
  },
  {
   "cell_type": "code",
   "execution_count": 144,
   "outputs": [
    {
     "name": "stdout",
     "output_type": "stream",
     "text": [
      "['Westamerica', 'Westamerica_Bank', 'Westamerica_Bancorporation', 'TestAmerica', 'Westamerica_Bancorp', 'Westamerica_Bancorporation_NASDAQ', 'Westamerica_Bancorp_WABC', 'WestAmerica_Mortgage_Company', 'WestAmerica_Bank', 'TestAmerica_Air', 'Westamerica_Bancorporation_WABC', 'Westamerica_Bancorp_NasdaqNM_WABC', 'WestAmerica', 'Westamerica_Bancorp.', 'Westamerica_Bancorp_NASDAQ', 'TestAmerica_Drilling_Corp.', 'FirstAmerican_CoreLogic', 'FirstAmerican_LoanPerformance_research', 'WestAmerica_Bancorp.']\n"
     ]
    }
   ],
   "source": [
    "regstr=r'(united\\s*states\\s*(of)*\\s*america)'\n",
    "regstr=r'st\\.*america+'\n",
    "\n",
    "unitedStrs=[key for key in word2vec.key_to_index.keys() if re.findall(regstr, key.lower()) !=[]  ]\n",
    "print(unitedStrs)"
   ],
   "metadata": {
    "collapsed": false,
    "pycharm": {
     "name": "#%%\n"
    }
   }
  },
  {
   "cell_type": "code",
   "execution_count": 139,
   "outputs": [
    {
     "name": "stdout",
     "output_type": "stream",
     "text": [
      "['Transamerica', 'TransAmerica', 'Transamerica_Reinsurance', 'Transamerica_Pyramid', 'Transamerica_Retirement_Services', 'FCSAmerica', 'www.ReynoldsAmerican.com', 'bbegley@atlasamerica.com', 'TransAmerican', 'www.atlasamerica.com', 'www.drinksamericas.com', 'insurer_Transamerica', 'Transamerica_Asset_Management', 'Felicity_Huffman_Transamerica', 'Folksamerica', 'Transamerica_Re', 'www.broadwayacrossamerica.com', 'DiabetesAmerica', 'www.BroadwayAcrossAmerica.com', 'TransAmerican_Energy_Inc.', 'BroadwayAcrossAmerica.com', 'TRANSAMERICA', 'Transamerica_Occidental_Life', 'http://www.ReynoldsAmerican.com', 'Transamerica_Life', 'S.America', 'GasAmerica', 'www.missamerica.org', 'http://investors.americangreetings.com', 'website_www.ReynoldsAmerican.com', 'Transamerican', 'Folksamerica_Re', 'Transamerica_reinsurance', 'TransAmerica_Trail', 'Transamerica_pyramid', 'Transamerica_Retirement', 'Transamerican_Love_Story', 'AEGON_Transamerica', 'Transamerican_Auto_Parts', 'Transamerica_Retirement_Survey', 'Transamerica_Felicity_Huffman', 'Aegon_Transamerica', 'Transamerica_Retirement_Management', 'Transamerica_Dolly_Parton', 'Folksamerica_Reinsurance_Company', 'Transamerica_Funds', 'Transamerica_Keira_Knightley']\n"
     ]
    }
   ],
   "source": [],
   "metadata": {
    "collapsed": false,
    "pycharm": {
     "name": "#%%\n"
    }
   }
  },
  {
   "cell_type": "code",
   "execution_count": 83,
   "outputs": [
    {
     "ename": "AttributeError",
     "evalue": "'NoneType' object has no attribute 'group'",
     "output_type": "error",
     "traceback": [
      "\u001B[1;31m---------------------------------------------------------------------------\u001B[0m",
      "\u001B[1;31mAttributeError\u001B[0m                            Traceback (most recent call last)",
      "\u001B[1;32m<ipython-input-83-cf8e6abef9e8>\u001B[0m in \u001B[0;36m<module>\u001B[1;34m\u001B[0m\n\u001B[1;32m----> 1\u001B[1;33m \u001B[0mprint\u001B[0m\u001B[1;33m(\u001B[0m\u001B[0mre\u001B[0m\u001B[1;33m.\u001B[0m\u001B[0mmatch\u001B[0m\u001B[1;33m(\u001B[0m\u001B[1;34mr'united\\s*states\\s*p[of]\\s*america'\u001B[0m\u001B[1;33m,\u001B[0m\u001B[1;34m'unitedstates of america'\u001B[0m\u001B[1;33m.\u001B[0m\u001B[0mlower\u001B[0m\u001B[1;33m(\u001B[0m\u001B[1;33m)\u001B[0m\u001B[1;33m)\u001B[0m\u001B[1;33m.\u001B[0m\u001B[0mgroup\u001B[0m\u001B[1;33m(\u001B[0m\u001B[1;33m)\u001B[0m\u001B[1;33m)\u001B[0m\u001B[1;33m\u001B[0m\u001B[1;33m\u001B[0m\u001B[0m\n\u001B[0m",
      "\u001B[1;31mAttributeError\u001B[0m: 'NoneType' object has no attribute 'group'"
     ]
    }
   ],
   "source": [
    "print(re.match(r'united\\s*states\\s*p[of]\\s*america','unitedstates of america'.lower()).group())"
   ],
   "metadata": {
    "collapsed": false,
    "pycharm": {
     "name": "#%%\n"
    }
   }
  },
  {
   "cell_type": "code",
   "execution_count": 186,
   "outputs": [
    {
     "data": {
      "text/plain": "[('Germany', 0.5019574761390686),\n ('Belgium', 0.5014468431472778),\n ('Great_Britain', 0.48834750056266785),\n ('Belguim', 0.4832264482975006),\n ('Spain', 0.4763934016227722),\n ('Slovenia', 0.4707343280315399),\n ('Netherlands', 0.4610753655433655),\n ('Zandvoort_A1_Team', 0.46009892225265503),\n ('Italy', 0.4538419842720032),\n ('Phoenix_Suns_Boris_Diaw', 0.45229512453079224)]"
     },
     "execution_count": 186,
     "metadata": {},
     "output_type": "execute_result"
    }
   ],
   "source": [
    "word2vec.most_similar(positive= ['USA','France'],\n",
    "                      negative=['New_York'])"
   ],
   "metadata": {
    "collapsed": false,
    "pycharm": {
     "name": "#%%\n"
    }
   }
  },
  {
   "cell_type": "code",
   "execution_count": null,
   "outputs": [],
   "source": [],
   "metadata": {
    "collapsed": false,
    "pycharm": {
     "name": "#%%\n"
    }
   }
  },
  {
   "cell_type": "code",
   "execution_count": 19,
   "outputs": [
    {
     "name": "stdout",
     "output_type": "stream",
     "text": [
      "[ 0.15272   0.36181  -0.22168   0.066051  0.13029   0.37075  -0.75874\n",
      " -0.44722   0.22563   0.10208   0.054225  0.13494  -0.43052  -0.2134\n",
      "  0.56139  -0.21445   0.077974  0.10137  -0.51306  -0.40295   0.40639\n",
      "  0.23309   0.20696  -0.12668  -0.50634  -1.7131    0.077183 -0.39138\n",
      " -0.10594  -0.23743   3.9552    0.66596  -0.61841  -0.3268    0.37021\n",
      "  0.25764   0.38977   0.27121   0.043024 -0.34322   0.020339  0.2142\n",
      "  0.044097  0.14003  -0.20079   0.074794 -0.36076   0.43382  -0.084617\n",
      "  0.1214  ]\n"
     ]
    }
   ],
   "source": [
    "print(word2vec['for'])"
   ],
   "metadata": {
    "collapsed": false,
    "pycharm": {
     "name": "#%%\n"
    }
   }
  },
  {
   "cell_type": "code",
   "execution_count": null,
   "outputs": [],
   "source": [
    "downloaded=api.load(fastTextUrl,return_path=True)\n"
   ],
   "metadata": {
    "collapsed": false,
    "pycharm": {
     "name": "#%%\n",
     "is_executing": true
    }
   }
  },
  {
   "cell_type": "code",
   "execution_count": null,
   "outputs": [],
   "source": [
    "print('fastText')\n",
    "from gensim.models import fasttext\n",
    "\n",
    "\n",
    "word2vec=fasttext._load_fasttext_format(downloaded)"
   ],
   "metadata": {
    "collapsed": false,
    "pycharm": {
     "name": "#%%\n",
     "is_executing": true
    }
   }
  },
  {
   "cell_type": "code",
   "execution_count": null,
   "outputs": [],
   "source": [
    "\n",
    "\n"
   ],
   "metadata": {
    "collapsed": false,
    "pycharm": {
     "name": "#%%\n"
    }
   }
  },
  {
   "cell_type": "markdown",
   "source": [],
   "metadata": {
    "collapsed": false,
    "pycharm": {
     "name": "#%% md\n"
    }
   }
  }
 ],
 "metadata": {
  "kernelspec": {
   "display_name": "Python 3",
   "language": "python",
   "name": "python3"
  },
  "language_info": {
   "codemirror_mode": {
    "name": "ipython",
    "version": 2
   },
   "file_extension": ".py",
   "mimetype": "text/x-python",
   "name": "python",
   "nbconvert_exporter": "python",
   "pygments_lexer": "ipython2",
   "version": "2.7.6"
  }
 },
 "nbformat": 4,
 "nbformat_minor": 0
}