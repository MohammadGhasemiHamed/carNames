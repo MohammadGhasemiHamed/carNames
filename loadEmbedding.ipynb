{
 "cells": [
  {
   "cell_type": "code",
   "execution_count": 3,
   "metadata": {
    "collapsed": true
   },
   "outputs": [],
   "source": [
    "import pandas as pd\n",
    "mpgdf=pd.read_csv('./files/auto-mpg.csv')\n"
   ]
  },
  {
   "cell_type": "code",
   "execution_count": 6,
   "outputs": [
    {
     "data": {
      "text/plain": "     13  8    360  175  3821    11  73  1 amc ambassador brougham\n0  15.0  8  390.0  190  3850   8.5  70  1      amc ambassador dpl\n1  17.0  8  304.0  150  3672  11.5  72  1      amc ambassador sst\n2  19.4  6  232.0   90  3210  17.2  78  1             amc concord",
      "text/html": "<div>\n<style scoped>\n    .dataframe tbody tr th:only-of-type {\n        vertical-align: middle;\n    }\n\n    .dataframe tbody tr th {\n        vertical-align: top;\n    }\n\n    .dataframe thead th {\n        text-align: right;\n    }\n</style>\n<table border=\"1\" class=\"dataframe\">\n  <thead>\n    <tr style=\"text-align: right;\">\n      <th></th>\n      <th>13</th>\n      <th>8</th>\n      <th>360</th>\n      <th>175</th>\n      <th>3821</th>\n      <th>11</th>\n      <th>73</th>\n      <th>1</th>\n      <th>amc ambassador brougham</th>\n    </tr>\n  </thead>\n  <tbody>\n    <tr>\n      <td>0</td>\n      <td>15.0</td>\n      <td>8</td>\n      <td>390.0</td>\n      <td>190</td>\n      <td>3850</td>\n      <td>8.5</td>\n      <td>70</td>\n      <td>1</td>\n      <td>amc ambassador dpl</td>\n    </tr>\n    <tr>\n      <td>1</td>\n      <td>17.0</td>\n      <td>8</td>\n      <td>304.0</td>\n      <td>150</td>\n      <td>3672</td>\n      <td>11.5</td>\n      <td>72</td>\n      <td>1</td>\n      <td>amc ambassador sst</td>\n    </tr>\n    <tr>\n      <td>2</td>\n      <td>19.4</td>\n      <td>6</td>\n      <td>232.0</td>\n      <td>90</td>\n      <td>3210</td>\n      <td>17.2</td>\n      <td>78</td>\n      <td>1</td>\n      <td>amc concord</td>\n    </tr>\n  </tbody>\n</table>\n</div>"
     },
     "execution_count": 6,
     "metadata": {},
     "output_type": "execute_result"
    }
   ],
   "source": [
    "mpgdf.head(3)"
   ],
   "metadata": {
    "collapsed": false,
    "pycharm": {
     "name": "#%%\n"
    }
   }
  },
  {
   "cell_type": "code",
   "execution_count": 7,
   "outputs": [
    {
     "data": {
      "text/plain": "               13           8         360         3821          11  \\\ncount  397.000000  397.000000  397.000000   397.000000  397.000000   \nmean    23.541058    5.448363  193.006297  2968.282116   15.579597   \nstd      7.807944    1.698329  104.064450   846.829608    2.751586   \nmin      9.000000    3.000000   68.000000  1613.000000    8.000000   \n25%     17.500000    4.000000  104.000000  2223.000000   13.900000   \n50%     23.000000    4.000000  146.000000  2800.000000   15.500000   \n75%     29.000000    8.000000  262.000000  3605.000000   17.200000   \nmax     46.600000    8.000000  455.000000  5140.000000   24.800000   \n\n               73           1  \ncount  397.000000  397.000000  \nmean    76.017632    1.574307  \nstd      3.699193    0.802549  \nmin     70.000000    1.000000  \n25%     73.000000    1.000000  \n50%     76.000000    1.000000  \n75%     79.000000    2.000000  \nmax     82.000000    3.000000  ",
      "text/html": "<div>\n<style scoped>\n    .dataframe tbody tr th:only-of-type {\n        vertical-align: middle;\n    }\n\n    .dataframe tbody tr th {\n        vertical-align: top;\n    }\n\n    .dataframe thead th {\n        text-align: right;\n    }\n</style>\n<table border=\"1\" class=\"dataframe\">\n  <thead>\n    <tr style=\"text-align: right;\">\n      <th></th>\n      <th>13</th>\n      <th>8</th>\n      <th>360</th>\n      <th>3821</th>\n      <th>11</th>\n      <th>73</th>\n      <th>1</th>\n    </tr>\n  </thead>\n  <tbody>\n    <tr>\n      <td>count</td>\n      <td>397.000000</td>\n      <td>397.000000</td>\n      <td>397.000000</td>\n      <td>397.000000</td>\n      <td>397.000000</td>\n      <td>397.000000</td>\n      <td>397.000000</td>\n    </tr>\n    <tr>\n      <td>mean</td>\n      <td>23.541058</td>\n      <td>5.448363</td>\n      <td>193.006297</td>\n      <td>2968.282116</td>\n      <td>15.579597</td>\n      <td>76.017632</td>\n      <td>1.574307</td>\n    </tr>\n    <tr>\n      <td>std</td>\n      <td>7.807944</td>\n      <td>1.698329</td>\n      <td>104.064450</td>\n      <td>846.829608</td>\n      <td>2.751586</td>\n      <td>3.699193</td>\n      <td>0.802549</td>\n    </tr>\n    <tr>\n      <td>min</td>\n      <td>9.000000</td>\n      <td>3.000000</td>\n      <td>68.000000</td>\n      <td>1613.000000</td>\n      <td>8.000000</td>\n      <td>70.000000</td>\n      <td>1.000000</td>\n    </tr>\n    <tr>\n      <td>25%</td>\n      <td>17.500000</td>\n      <td>4.000000</td>\n      <td>104.000000</td>\n      <td>2223.000000</td>\n      <td>13.900000</td>\n      <td>73.000000</td>\n      <td>1.000000</td>\n    </tr>\n    <tr>\n      <td>50%</td>\n      <td>23.000000</td>\n      <td>4.000000</td>\n      <td>146.000000</td>\n      <td>2800.000000</td>\n      <td>15.500000</td>\n      <td>76.000000</td>\n      <td>1.000000</td>\n    </tr>\n    <tr>\n      <td>75%</td>\n      <td>29.000000</td>\n      <td>8.000000</td>\n      <td>262.000000</td>\n      <td>3605.000000</td>\n      <td>17.200000</td>\n      <td>79.000000</td>\n      <td>2.000000</td>\n    </tr>\n    <tr>\n      <td>max</td>\n      <td>46.600000</td>\n      <td>8.000000</td>\n      <td>455.000000</td>\n      <td>5140.000000</td>\n      <td>24.800000</td>\n      <td>82.000000</td>\n      <td>3.000000</td>\n    </tr>\n  </tbody>\n</table>\n</div>"
     },
     "execution_count": 7,
     "metadata": {},
     "output_type": "execute_result"
    }
   ],
   "source": [
    "\n",
    "mpgdf.describe()"
   ],
   "metadata": {
    "collapsed": false,
    "pycharm": {
     "name": "#%%\n"
    }
   }
  },
  {
   "cell_type": "code",
   "execution_count": 27,
   "outputs": [
    {
     "data": {
      "text/plain": "0      False\n1      False\n2      False\n3      False\n4      False\n       ...  \n392    False\n393    False\n394    False\n395    False\n396    False\nName: 13, Length: 397, dtype: bool"
     },
     "execution_count": 27,
     "metadata": {},
     "output_type": "execute_result"
    }
   ],
   "source": [
    "mpgdf['13'].apply(pd.isnull,)"
   ],
   "metadata": {
    "collapsed": false,
    "pycharm": {
     "name": "#%%\n"
    }
   }
  },
  {
   "cell_type": "code",
   "execution_count": null,
   "outputs": [],
   "source": [
    "from spacy import vocab,load"
   ],
   "metadata": {
    "collapsed": false,
    "pycharm": {
     "name": "#%%\n"
    }
   }
  },
  {
   "cell_type": "code",
   "execution_count": null,
   "outputs": [],
   "source": [
    "print('test ')"
   ],
   "metadata": {
    "collapsed": false,
    "pycharm": {
     "name": "#%%\n"
    }
   }
  },
  {
   "cell_type": "code",
   "execution_count": null,
   "outputs": [],
   "source": [],
   "metadata": {
    "collapsed": false,
    "pycharm": {
     "name": "#%%\n"
    }
   }
  }
 ],
 "metadata": {
  "kernelspec": {
   "display_name": "Python 3",
   "language": "python",
   "name": "python3"
  },
  "language_info": {
   "codemirror_mode": {
    "name": "ipython",
    "version": 2
   },
   "file_extension": ".py",
   "mimetype": "text/x-python",
   "name": "python",
   "nbconvert_exporter": "python",
   "pygments_lexer": "ipython2",
   "version": "2.7.6"
  }
 },
 "nbformat": 4,
 "nbformat_minor": 0
}