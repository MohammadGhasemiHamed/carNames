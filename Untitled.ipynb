{
 "cells": [
  {
   "cell_type": "code",
   "execution_count": 5,
   "id": "6cc99bb7",
   "metadata": {},
   "outputs": [
    {
     "name": "stdout",
     "output_type": "stream",
     "text": [
      "[=================================================-] 99.5% 953.5/958.4MB downloaded"
     ]
    }
   ],
   "source": [
    "\n",
    "import gensim.downloader as api\n",
    "word_vectors = api.load(\"fasttext-wiki-news-subwords-300\",return_path=True)\n",
    "\n",
    "from gensim.models.keyedvectors import KeyedVectors\n",
    "\n",
    "word_vectors_vocab = KeyedVectors.load_word2vec_format(word_vectors, binary=False)"
   ]
  },
  {
   "cell_type": "code",
   "execution_count": 8,
   "id": "78fb4772",
   "metadata": {},
   "outputs": [],
   "source": [
    "#%%\n",
    "sentence_obama = 'Obama speaks to the media in Illinois'.lower().split()\n",
    "sentence_president = 'The president greets the press in Chicago'.lower().split()\n",
    "from gensim.parsing.preprocessing import STOPWORDS\n",
    "sentence_obama = [w for w in sentence_obama if w not in STOPWORDS]\n",
    "sentence_president = [w for w in sentence_president if w not in STOPWORDS]\n",
    "#%%\n"
   ]
  },
  {
   "cell_type": "code",
   "execution_count": 9,
   "id": "de52d44e",
   "metadata": {},
   "outputs": [
    {
     "name": "stdout",
     "output_type": "stream",
     "text": [
      "Word Movers Distance is 0.8826845574533558 (lower means closer)\n"
     ]
    }
   ],
   "source": [
    "distance = word_vectors_vocab.wmdistance(sentence_obama, sentence_president)\n",
    "print(f\"Word Movers Distance is {distance} (lower means closer)\")\n"
   ]
  },
  {
   "cell_type": "code",
   "execution_count": null,
   "id": "69838ab1",
   "metadata": {},
   "outputs": [],
   "source": []
  }
 ],
 "metadata": {
  "kernelspec": {
   "display_name": "Python 3",
   "language": "python",
   "name": "python3"
  },
  "language_info": {
   "codemirror_mode": {
    "name": "ipython",
    "version": 3
   },
   "file_extension": ".py",
   "mimetype": "text/x-python",
   "name": "python",
   "nbconvert_exporter": "python",
   "pygments_lexer": "ipython3",
   "version": "3.6.9"
  }
 },
 "nbformat": 4,
 "nbformat_minor": 5
}
